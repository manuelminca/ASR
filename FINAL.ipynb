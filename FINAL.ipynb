{
 "cells": [
  {
   "cell_type": "code",
   "execution_count": 2,
   "metadata": {
    "colab": {
     "base_uri": "https://localhost:8080/",
     "height": 34
    },
    "colab_type": "code",
    "id": "fdH1KsKtnS8H",
    "outputId": "6bb0f21b-bef3-4781-a25c-ec9fba4949ee"
   },
   "outputs": [
    {
     "name": "stderr",
     "output_type": "stream",
     "text": [
      "Using TensorFlow backend.\n"
     ]
    }
   ],
   "source": [
    "from __future__ import print_function\n",
    "import numpy as np  \n",
    "import h5py\n",
    "import matplotlib.pyplot as plt  \n",
    "\n",
    "import keras\n",
    "from keras.models import Sequential\n",
    "from keras.optimizers import RMSprop\n",
    "from keras.layers import Dense, Dropout, Flatten\n",
    "from keras.layers import Conv2D,Conv1D, MaxPooling2D, Activation, LSTM, Reshape, Convolution2D, BatchNormalization\n",
    "from keras import backend as K\n",
    "from IPython.display import Audio\n",
    "from IPython.display import display\n",
    "import sys\n",
    "from ipykernel import kernelapp as app\n",
    "%matplotlib inline"
   ]
  },
  {
   "cell_type": "code",
   "execution_count": 3,
   "metadata": {
    "colab": {
     "base_uri": "https://localhost:8080/",
     "height": 221
    },
    "colab_type": "code",
    "id": "PcbOQYe6lTlS",
    "outputId": "8343c5d5-5c24-43cc-8410-8e68fa29d498"
   },
   "outputs": [
    {
     "name": "stdout",
     "output_type": "stream",
     "text": [
      "CQT300secsallsongs.h5  LastModel.pt  cqt_main.py      manuenv\r\n",
      "FINAL.ipynb\t       MODEL.ipynb   finalDatasetCQT  mfcc_main.py\r\n"
     ]
    }
   ],
   "source": [
    "!ls"
   ]
  },
  {
   "cell_type": "code",
   "execution_count": 4,
   "metadata": {
    "colab": {},
    "colab_type": "code",
    "id": "-D0S2cR4nS-s"
   },
   "outputs": [],
   "source": [
    "#Loading all the necessary data of the dataset\n",
    "\n",
    "filename = \"CQT300secsallsongs.h5\"\n",
    "\n",
    "hf = h5py.File(filename, 'r') \n",
    "all_groups = list(hf)"
   ]
  },
  {
   "cell_type": "code",
   "execution_count": 5,
   "metadata": {
    "colab": {
     "base_uri": "https://localhost:8080/",
     "height": 88
    },
    "colab_type": "code",
    "id": "JQHB75xOnTBe",
    "outputId": "bf29a58c-f3cb-4ada-ea3d-f7924e5e913e"
   },
   "outputs": [
    {
     "name": "stdout",
     "output_type": "stream",
     "text": [
      "(634960, 5, 384)\n"
     ]
    },
    {
     "name": "stderr",
     "output_type": "stream",
     "text": [
      "/vol/customopt/lamachine.stable/lib/python3.6/site-packages/ipykernel_launcher.py:13: H5pyDeprecationWarning: The default file mode will change to 'r' (read-only) in h5py 3.0. To suppress this warning, pass the mode you need to h5py.File(), or set the global default h5.get_config().default_file_mode, or set the environment variable H5PY_DEFAULT_READONLY=1. Available modes are: 'r', 'r+', 'w', 'w-'/'x', 'a'. See the docs for details.\n",
      "  del sys.path[0]\n"
     ]
    }
   ],
   "source": [
    "fs = 44100      # samples/second\n",
    "#train_data = np.load(open('../musicnet.npz','rb'))\n",
    "#X,Y = train_data['2494'] # data X and labels Y for recording id 1788\n",
    "window_size = 384  # 2048-sample fourier windows\n",
    "wps = fs/float(512) # ~86 windows/second\n",
    "seconds = 20\n",
    "\n",
    "train_samples = 25\n",
    "#test_samples = 20\n",
    "\n",
    "#compute the number of windows\n",
    "\n",
    "with h5py.File(filename) as file:\n",
    "\n",
    "    size = 0\n",
    "    for i in range(train_samples):\n",
    "        iterations = file[all_groups[i]]['Labels'].shape[0]\n",
    "        size += iterations\n",
    "    \n",
    "    x_train = np.empty([int(size), 5, window_size]) #, dtype=np.complex)\n",
    "    y_train = np.empty([int(size),88])\n",
    "\n",
    "\n",
    "    #size = 0\n",
    "    #for i in range(test_samples):\n",
    "    #    iterations = file[all_groups[i + train_samples]]['Labels'].shape[0]\n",
    "    #    size += iterations\n",
    "    #    \n",
    "    #    \n",
    "    #x_test = np.empty([int(size), 5, window_size]) #, dtype=np.complex)\n",
    "    #y_test = np.empty([int(size),88])\n",
    "\n",
    "    \n",
    "print(x_train.shape)\n",
    "#print(x_test.shape)"
   ]
  },
  {
   "cell_type": "code",
   "execution_count": 15,
   "metadata": {},
   "outputs": [
    {
     "name": "stderr",
     "output_type": "stream",
     "text": [
      "/vol/customopt/lamachine.stable/lib/python3.6/site-packages/ipykernel_launcher.py:2: H5pyDeprecationWarning: The default file mode will change to 'r' (read-only) in h5py 3.0. To suppress this warning, pass the mode you need to h5py.File(), or set the global default h5.get_config().default_file_mode, or set the environment variable H5PY_DEFAULT_READONLY=1. Available modes are: 'r', 'r+', 'w', 'w-'/'x', 'a'. See the docs for details.\n",
      "  \n",
      "100%|██████████| 318/318 [01:34<00:00,  3.35it/s]\n"
     ]
    }
   ],
   "source": [
    "maximo = 0\n",
    "with h5py.File(filename) as file:\n",
    "    for i in tqdm(range(len(all_groups))):\n",
    "        maximo = max(maximo, np.max(file[all_groups[i]]['CQT']))"
   ]
  },
  {
   "cell_type": "code",
   "execution_count": 16,
   "metadata": {},
   "outputs": [
    {
     "data": {
      "text/plain": [
       "41.77573207375742"
      ]
     },
     "execution_count": 16,
     "metadata": {},
     "output_type": "execute_result"
    }
   ],
   "source": [
    "maximo"
   ]
  },
  {
   "cell_type": "code",
   "execution_count": 6,
   "metadata": {
    "colab": {
     "base_uri": "https://localhost:8080/",
     "height": 105
    },
    "colab_type": "code",
    "id": "UcYSTzoqnTED",
    "outputId": "5a6ab8fd-07be-4ba9-c8af-1b099f04227f"
   },
   "outputs": [
    {
     "name": "stderr",
     "output_type": "stream",
     "text": [
      "/vol/customopt/lamachine.stable/lib/python3.6/site-packages/ipykernel_launcher.py:2: H5pyDeprecationWarning: The default file mode will change to 'r' (read-only) in h5py 3.0. To suppress this warning, pass the mode you need to h5py.File(), or set the global default h5.get_config().default_file_mode, or set the environment variable H5PY_DEFAULT_READONLY=1. Available modes are: 'r', 'r+', 'w', 'w-'/'x', 'a'. See the docs for details.\n",
      "  \n",
      "\r",
      "  0%|          | 0/25 [00:00<?, ?it/s]"
     ]
    },
    {
     "name": "stdout",
     "output_type": "stream",
     "text": [
      "Starting loading train samples\n"
     ]
    },
    {
     "name": "stderr",
     "output_type": "stream",
     "text": [
      "100%|██████████| 25/25 [10:24<00:00, 24.99s/it]\n"
     ]
    }
   ],
   "source": [
    "from tqdm import tqdm\n",
    "with h5py.File(filename) as file:\n",
    "    \n",
    "    print(\"Starting loading train samples\")\n",
    "    position = 0\n",
    "    for i in tqdm(range(train_samples)):\n",
    "        iterations = file[all_groups[i]]['Labels'].shape[0]\n",
    "        iterations = int(iterations)\n",
    "        for j in range(iterations):\n",
    "          if position < x_train.shape[0]:\n",
    "            \n",
    "            if j == 0:\n",
    "  \n",
    "              for k in range(5):\n",
    "                  if (j + k) < iterations:\n",
    "                      x_train[position][k] = file[all_groups[i]]['CQT'][j + k]\n",
    "              if j < (iterations - 2):\n",
    "                  y_train[position] = file[all_groups[i]]['Labels'][j + 2]\n",
    "              position = position + 1\n",
    "            else:\n",
    "              for k in range(5):\n",
    "                  if (j + k) < iterations:\n",
    "                      if k < 3:\n",
    "                        x_train[position][k] = x_train[position - 1][k + 1]\n",
    "                      else:\n",
    "                        x_train[position][k] = file[all_groups[i]]['CQT'][j + k]\n",
    "              if j < (iterations - 2):\n",
    "                  y_train[position] = file[all_groups[i]]['Labels'][j + 2]\n",
    "              position = position + 1\n",
    "              \n",
    "              \n",
    "              \n",
    "    #position = 0\n",
    "    #for i in range(test_samples):\n",
    "    #    print(i)\n",
    "    #    iterations = file[all_groups[i + train_samples]]['Labels'].shape[0]\n",
    "    #    iterations = int(iterations)\n",
    "    #    for j in range(iterations):\n",
    "    #      if position < x_test.shape[0]:\n",
    "    #        \n",
    "    #        if j == 0:\n",
    "  #\n",
    "    #          for k in range(5):\n",
    "    #              if (j + k) < iterations:\n",
    "    #                  x_test[position][k] = file[all_groups[i]]['CQT'][j + k]\n",
    "    #          if j < (iterations - 2):\n",
    "    #              y_test[position] = file[all_groups[i + train_samples]]['Labels'][j + 2]\n",
    "    #          position = position + 1\n",
    "    #        else:\n",
    "    #          for k in range(5):\n",
    "    #              if (j + k) < iterations:\n",
    "    #                  if k < 3:\n",
    "    #                    x_test[position][k] = x_test[position - 1][k + 1]\n",
    "    #                  else:\n",
    "    #                    x_test[position][k] = file[all_groups[i]]['CQT'][j + k]\n",
    "    #          if j < (iterations - 2):\n",
    "    #              y_test[position] = file[all_groups[i + train_samples]]['Labels'][j + 2]\n",
    "    #          position = position + 1"
   ]
  },
  {
   "cell_type": "code",
   "execution_count": 0,
   "metadata": {
    "colab": {},
    "colab_type": "code",
    "id": "kfdVltRxCAP6"
   },
   "outputs": [],
   "source": [
    "x_train == x_train2"
   ]
  },
  {
   "cell_type": "code",
   "execution_count": 7,
   "metadata": {
    "colab": {
     "base_uri": "https://localhost:8080/",
     "height": 85
    },
    "colab_type": "code",
    "id": "rhtvEEJUnTGs",
    "outputId": "f4c06f93-36c6-497b-86fe-3c55825aa2a2"
   },
   "outputs": [
    {
     "name": "stdout",
     "output_type": "stream",
     "text": [
      "Finished convertion to Int\n",
      "Finished calculation of the maximum values\n",
      "0 24.05833589529093 24.05833589529093\n",
      "Finished reshaping\n"
     ]
    }
   ],
   "source": [
    "y_train = y_train.astype('int')\n",
    "#y_test = y_test.astype('int')\n",
    "print(\"Finished convertion to Int\")\n",
    "\n",
    "\n",
    "test_max = 41.77573207375742\n",
    "train_max = 41.77573207375742\n",
    "print(\"Finished calculation of the maximum values\")\n",
    "\n",
    "\n",
    "\n",
    "x_train /= max_value\n",
    "#x_test /= max_value\n",
    "\n",
    "\n",
    "data_rows, data_cols = 5, window_size\n",
    "\n",
    "x_train = x_train.reshape(x_train.shape[0], data_rows, data_cols, 1)\n",
    "#x_test = x_test.reshape(x_test.shape[0], data_rows, data_cols, 1)\n",
    "print(\"Finished reshaping\")\n",
    "input_shape = (data_rows, data_cols, 1)"
   ]
  },
  {
   "cell_type": "code",
   "execution_count": 0,
   "metadata": {
    "colab": {
     "base_uri": "https://localhost:8080/",
     "height": 85
    },
    "colab_type": "code",
    "id": "En-YM1OxnTJd",
    "outputId": "e95f8bee-8a0a-4301-b6d7-5f898a8909b4"
   },
   "outputs": [
    {
     "name": "stdout",
     "output_type": "stream",
     "text": [
      "(258400, 5, 384, 1) x train shape\n",
      "(103360, 5, 384, 1) x test shape\n",
      "(258400, 88) y train shape\n",
      "(103360, 88) y test shape\n"
     ]
    }
   ],
   "source": [
    "print(x_train.shape, 'x train shape')\n",
    "print(x_test.shape, 'x test shape')\n",
    "print(y_train.shape, 'y train shape')\n",
    "print(y_test.shape, 'y test shape')"
   ]
  },
  {
   "cell_type": "code",
   "execution_count": 8,
   "metadata": {
    "colab": {},
    "colab_type": "code",
    "id": "OwNHXO7avetL"
   },
   "outputs": [
    {
     "name": "stdout",
     "output_type": "stream",
     "text": [
      "Model: \"sequential_1\"\n",
      "_________________________________________________________________\n",
      "Layer (type)                 Output Shape              Param #   \n",
      "=================================================================\n",
      "conv2d_1 (Conv2D)            (None, 3, 374, 64)        2176      \n",
      "_________________________________________________________________\n",
      "conv2d_2 (Conv2D)            (None, 1, 364, 64)        135232    \n",
      "_________________________________________________________________\n",
      "max_pooling2d_1 (MaxPooling2 (None, 1, 182, 64)        0         \n",
      "_________________________________________________________________\n",
      "dropout_1 (Dropout)          (None, 1, 182, 64)        0         \n",
      "_________________________________________________________________\n",
      "flatten_1 (Flatten)          (None, 11648)             0         \n",
      "_________________________________________________________________\n",
      "dense_1 (Dense)              (None, 128)               1491072   \n",
      "_________________________________________________________________\n",
      "dropout_2 (Dropout)          (None, 128)               0         \n",
      "_________________________________________________________________\n",
      "dense_2 (Dense)              (None, 88)                11352     \n",
      "=================================================================\n",
      "Total params: 1,639,832\n",
      "Trainable params: 1,639,832\n",
      "Non-trainable params: 0\n",
      "_________________________________________________________________\n",
      "None\n",
      "Train on 507968 samples, validate on 126992 samples\n",
      "Epoch 1/10\n",
      "507968/507968 [==============================] - 685s 1ms/step - loss: 314687935.8892 - accuracy: 0.0186 - val_loss: 708459622.0355 - val_accuracy: 0.0198\n",
      "Epoch 2/10\n",
      "507968/507968 [==============================] - 686s 1ms/step - loss: 3621935356.6133 - accuracy: 0.0177 - val_loss: 4565924473.2105 - val_accuracy: 0.0013\n",
      "Epoch 3/10\n",
      "507968/507968 [==============================] - 690s 1ms/step - loss: 7369990713.3476 - accuracy: 0.0176 - val_loss: 7467748346.4523 - val_accuracy: 0.0013\n",
      "Epoch 4/10\n",
      "507968/507968 [==============================] - 696s 1ms/step - loss: 13069137856.0081 - accuracy: 0.0175 - val_loss: 12763905372.9883 - val_accuracy: 0.0308\n",
      "Epoch 5/10\n",
      "507968/507968 [==============================] - 697s 1ms/step - loss: 21117340559.3690 - accuracy: 0.0177 - val_loss: 18803523249.5905 - val_accuracy: 0.0313\n",
      "Epoch 6/10\n",
      "507968/507968 [==============================] - 697s 1ms/step - loss: 32286303801.6056 - accuracy: 0.0178 - val_loss: 27457162924.9459 - val_accuracy: 0.0096\n",
      "Epoch 7/10\n",
      "507968/507968 [==============================] - 694s 1ms/step - loss: 46512743380.5216 - accuracy: 0.0174 - val_loss: 39102273483.6195 - val_accuracy: 0.0051\n",
      "Epoch 8/10\n",
      "507968/507968 [==============================] - 698s 1ms/step - loss: 65116854388.8885 - accuracy: 0.0173 - val_loss: 49903981664.3750 - val_accuracy: 0.0075\n",
      "Epoch 9/10\n",
      "507968/507968 [==============================] - 696s 1ms/step - loss: 87678509496.7187 - accuracy: 0.0178 - val_loss: 63456909513.5230 - val_accuracy: 0.0051\n",
      "Epoch 10/10\n",
      "507968/507968 [==============================] - 708s 1ms/step - loss: 114661825613.5386 - accuracy: 0.0176 - val_loss: 77690225277.8551 - val_accuracy: 0.0198\n"
     ]
    },
    {
     "ename": "NameError",
     "evalue": "name 'score' is not defined",
     "output_type": "error",
     "traceback": [
      "\u001b[0;31m---------------------------------------------------------------------------\u001b[0m",
      "\u001b[0;31mNameError\u001b[0m                                 Traceback (most recent call last)",
      "\u001b[0;32m<ipython-input-8-9e5f57717279>\u001b[0m in \u001b[0;36m<module>\u001b[0;34m\u001b[0m\n\u001b[1;32m     26\u001b[0m \u001b[0;34m\u001b[0m\u001b[0m\n\u001b[1;32m     27\u001b[0m \u001b[0;31m#score = model.evaluate(x_test, y_test, verbose=0)\u001b[0m\u001b[0;34m\u001b[0m\u001b[0;34m\u001b[0m\u001b[0;34m\u001b[0m\u001b[0m\n\u001b[0;32m---> 28\u001b[0;31m \u001b[0mprint\u001b[0m\u001b[0;34m(\u001b[0m\u001b[0;34m'Test loss:'\u001b[0m\u001b[0;34m,\u001b[0m \u001b[0mscore\u001b[0m\u001b[0;34m[\u001b[0m\u001b[0;36m0\u001b[0m\u001b[0;34m]\u001b[0m\u001b[0;34m)\u001b[0m\u001b[0;34m\u001b[0m\u001b[0;34m\u001b[0m\u001b[0m\n\u001b[0m\u001b[1;32m     29\u001b[0m \u001b[0mprint\u001b[0m\u001b[0;34m(\u001b[0m\u001b[0;34m'Test accuracy:'\u001b[0m\u001b[0;34m,\u001b[0m \u001b[0mscore\u001b[0m\u001b[0;34m[\u001b[0m\u001b[0;36m1\u001b[0m\u001b[0;34m]\u001b[0m\u001b[0;34m)\u001b[0m\u001b[0;34m\u001b[0m\u001b[0;34m\u001b[0m\u001b[0m\n\u001b[1;32m     30\u001b[0m \u001b[0;34m\u001b[0m\u001b[0m\n",
      "\u001b[0;31mNameError\u001b[0m: name 'score' is not defined"
     ]
    }
   ],
   "source": [
    "model = Sequential()\n",
    "\n",
    "model.add(Conv2D(64, kernel_size=(3, 11),\n",
    "                 activation='relu',\n",
    "                 input_shape=input_shape))\n",
    "model.add(Conv2D(64, (3, 11), activation='relu'))\n",
    "model.add(MaxPooling2D(pool_size=(1, 2)))\n",
    "model.add(Dropout(0.25))\n",
    "model.add(Flatten())\n",
    "model.add(Dense(128, activation='relu'))\n",
    "model.add(Dropout(0.5))\n",
    "model.add(Dense(88, activation='softmax'))\n",
    "\n",
    "print(model.summary())\n",
    "\n",
    "model.compile(loss=keras.losses.categorical_crossentropy,\n",
    "              optimizer=keras.optimizers.Adam(),\n",
    "              metrics=['accuracy'])\n",
    "\n",
    "history = model.fit(x_train, y_train,\n",
    "          batch_size=512,\n",
    "          epochs=10,\n",
    "          verbose=1,\n",
    "          validation_split=0.2)\n",
    "\n",
    "\n",
    "#score = model.evaluate(x_test, y_test, verbose=0)\n",
    "#print('Test loss:', score[0])\n",
    "#print('Test accuracy:', score[1])\n",
    "\n",
    "\n",
    "print(history.history.keys())  \n",
    "   \n",
    "plt.figure(1)  \n",
    "\n",
    "# summarize history for accuracy  \n",
    "\n",
    "plt.subplot(211)  \n",
    "plt.plot(history.history['acc'])  \n",
    "plt.plot(history.history['val_acc'])  \n",
    "plt.title('model accuracy')  \n",
    "plt.ylabel('accuracy')  \n",
    "plt.xlabel('epoch')  \n",
    "plt.legend(['train', 'test'], loc='upper left')  "
   ]
  },
  {
   "cell_type": "code",
   "execution_count": 19,
   "metadata": {},
   "outputs": [
    {
     "name": "stderr",
     "output_type": "stream",
     "text": [
      "/vol/customopt/lamachine.stable/lib/python3.6/site-packages/ipykernel_launcher.py:6: H5pyDeprecationWarning: The default file mode will change to 'r' (read-only) in h5py 3.0. To suppress this warning, pass the mode you need to h5py.File(), or set the global default h5.get_config().default_file_mode, or set the environment variable H5PY_DEFAULT_READONLY=1. Available modes are: 'r', 'r+', 'w', 'w-'/'x', 'a'. See the docs for details.\n",
      "  \n",
      "\r",
      "  0%|          | 0/20 [00:00<?, ?it/s]"
     ]
    },
    {
     "name": "stdout",
     "output_type": "stream",
     "text": [
      "Starting loading train samples\n"
     ]
    },
    {
     "name": "stderr",
     "output_type": "stream",
     "text": [
      "100%|██████████| 20/20 [09:03<00:00, 27.16s/it]\n"
     ]
    },
    {
     "name": "stdout",
     "output_type": "stream",
     "text": [
      "Train on 405236 samples, validate on 101310 samples\n",
      "Epoch 1/1\n",
      "405236/405236 [==============================] - 689s 2ms/step - loss: 173778673.2405 - accuracy: 0.0207 - val_loss: 732211845.2913 - val_accuracy: 0.0027\n"
     ]
    },
    {
     "name": "stderr",
     "output_type": "stream",
     "text": [
      "\r",
      "  0%|          | 0/20 [00:00<?, ?it/s]"
     ]
    },
    {
     "name": "stdout",
     "output_type": "stream",
     "text": [
      "Starting loading train samples\n"
     ]
    },
    {
     "name": "stderr",
     "output_type": "stream",
     "text": [
      "100%|██████████| 20/20 [09:19<00:00, 27.99s/it]\n"
     ]
    },
    {
     "name": "stdout",
     "output_type": "stream",
     "text": [
      "Train on 412811 samples, validate on 103203 samples\n",
      "Epoch 1/1\n",
      "412811/412811 [==============================] - 695s 2ms/step - loss: 1955636459.5686 - accuracy: 0.0207 - val_loss: 958233238.2270 - val_accuracy: 0.0142\n"
     ]
    },
    {
     "name": "stderr",
     "output_type": "stream",
     "text": [
      "\r",
      "  0%|          | 0/20 [00:00<?, ?it/s]"
     ]
    },
    {
     "name": "stdout",
     "output_type": "stream",
     "text": [
      "Starting loading train samples\n"
     ]
    },
    {
     "name": "stderr",
     "output_type": "stream",
     "text": [
      "100%|██████████| 20/20 [08:56<00:00, 26.80s/it]\n"
     ]
    },
    {
     "name": "stdout",
     "output_type": "stream",
     "text": [
      "Train on 400036 samples, validate on 100009 samples\n",
      "Epoch 1/1\n",
      "400036/400036 [==============================] - 591s 1ms/step - loss: 1690269954.2872 - accuracy: 0.0216 - val_loss: 7009499255.6155 - val_accuracy: 0.0339\n"
     ]
    },
    {
     "name": "stderr",
     "output_type": "stream",
     "text": [
      "\r",
      "  0%|          | 0/20 [00:00<?, ?it/s]"
     ]
    },
    {
     "name": "stdout",
     "output_type": "stream",
     "text": [
      "Starting loading train samples\n"
     ]
    },
    {
     "name": "stderr",
     "output_type": "stream",
     "text": [
      "100%|██████████| 20/20 [08:38<00:00, 25.92s/it]\n"
     ]
    },
    {
     "name": "stdout",
     "output_type": "stream",
     "text": [
      "Train on 396918 samples, validate on 99230 samples\n",
      "Epoch 1/1\n",
      "396918/396918 [==============================] - 599s 2ms/step - loss: 11106032014.8337 - accuracy: 0.0279 - val_loss: 5480270232.0108 - val_accuracy: 0.0216\n"
     ]
    },
    {
     "name": "stderr",
     "output_type": "stream",
     "text": [
      "\r",
      "  0%|          | 0/20 [00:00<?, ?it/s]"
     ]
    },
    {
     "name": "stdout",
     "output_type": "stream",
     "text": [
      "Starting loading train samples\n"
     ]
    },
    {
     "name": "stderr",
     "output_type": "stream",
     "text": [
      "100%|██████████| 20/20 [08:57<00:00, 26.85s/it]\n"
     ]
    },
    {
     "name": "stdout",
     "output_type": "stream",
     "text": [
      "Train on 393920 samples, validate on 98481 samples\n",
      "Epoch 1/1\n",
      "393920/393920 [==============================] - 596s 2ms/step - loss: 32228958582.9953 - accuracy: 0.0181 - val_loss: 74474762429.1178 - val_accuracy: 0.0234\n"
     ]
    },
    {
     "name": "stderr",
     "output_type": "stream",
     "text": [
      "\r",
      "  0%|          | 0/20 [00:00<?, ?it/s]"
     ]
    },
    {
     "name": "stdout",
     "output_type": "stream",
     "text": [
      "Starting loading train samples\n"
     ]
    },
    {
     "name": "stderr",
     "output_type": "stream",
     "text": [
      "100%|██████████| 20/20 [08:48<00:00, 26.40s/it]\n"
     ]
    },
    {
     "name": "stdout",
     "output_type": "stream",
     "text": [
      "Train on 398659 samples, validate on 99665 samples\n",
      "Epoch 1/1\n",
      "398659/398659 [==============================] - 614s 2ms/step - loss: 118720942977.3598 - accuracy: 0.0180 - val_loss: 189593366987.5029 - val_accuracy: 0.0034\n"
     ]
    },
    {
     "name": "stderr",
     "output_type": "stream",
     "text": [
      "\r",
      "  0%|          | 0/20 [00:00<?, ?it/s]"
     ]
    },
    {
     "name": "stdout",
     "output_type": "stream",
     "text": [
      "Starting loading train samples\n"
     ]
    },
    {
     "name": "stderr",
     "output_type": "stream",
     "text": [
      "100%|██████████| 20/20 [05:39<00:00, 16.99s/it]\n"
     ]
    },
    {
     "name": "stdout",
     "output_type": "stream",
     "text": [
      "Train on 263158 samples, validate on 65790 samples\n",
      "Epoch 1/1\n",
      "263158/263158 [==============================] - 398s 2ms/step - loss: 78666725402.9427 - accuracy: 0.0215 - val_loss: 3811838581.6223 - val_accuracy: 0.0030\n"
     ]
    },
    {
     "name": "stderr",
     "output_type": "stream",
     "text": [
      "\r",
      "  0%|          | 0/20 [00:00<?, ?it/s]"
     ]
    },
    {
     "name": "stdout",
     "output_type": "stream",
     "text": [
      "Starting loading train samples\n"
     ]
    },
    {
     "name": "stderr",
     "output_type": "stream",
     "text": [
      "100%|██████████| 20/20 [04:52<00:00, 14.64s/it]\n"
     ]
    },
    {
     "name": "stdout",
     "output_type": "stream",
     "text": [
      "Train on 232388 samples, validate on 58097 samples\n",
      "Epoch 1/1\n",
      "197632/232388 [========================>.....] - ETA: 49s - loss: 5241408086.2176 - accuracy: 0.0377"
     ]
    },
    {
     "ename": "KeyboardInterrupt",
     "evalue": "",
     "output_type": "error",
     "traceback": [
      "\u001b[0;31m---------------------------------------------------------------------------\u001b[0m",
      "\u001b[0;31mKeyboardInterrupt\u001b[0m                         Traceback (most recent call last)",
      "\u001b[0;32m<ipython-input-19-5a69e904977a>\u001b[0m in \u001b[0;36m<module>\u001b[0;34m\u001b[0m\n\u001b[1;32m     52\u001b[0m               \u001b[0mepochs\u001b[0m\u001b[0;34m=\u001b[0m\u001b[0;36m1\u001b[0m\u001b[0;34m,\u001b[0m\u001b[0;34m\u001b[0m\u001b[0;34m\u001b[0m\u001b[0m\n\u001b[1;32m     53\u001b[0m               \u001b[0mverbose\u001b[0m\u001b[0;34m=\u001b[0m\u001b[0;36m1\u001b[0m\u001b[0;34m,\u001b[0m\u001b[0;34m\u001b[0m\u001b[0;34m\u001b[0m\u001b[0m\n\u001b[0;32m---> 54\u001b[0;31m               validation_split=0.2)\n\u001b[0m\u001b[1;32m     55\u001b[0m \u001b[0;34m\u001b[0m\u001b[0m\n\u001b[1;32m     56\u001b[0m         \u001b[0mcurrent\u001b[0m \u001b[0;34m+=\u001b[0m \u001b[0;36m16\u001b[0m\u001b[0;34m\u001b[0m\u001b[0;34m\u001b[0m\u001b[0m\n",
      "\u001b[0;32m/vol/customopt/lamachine.stable/lib/python3.6/site-packages/keras/engine/training.py\u001b[0m in \u001b[0;36mfit\u001b[0;34m(self, x, y, batch_size, epochs, verbose, callbacks, validation_split, validation_data, shuffle, class_weight, sample_weight, initial_epoch, steps_per_epoch, validation_steps, validation_freq, max_queue_size, workers, use_multiprocessing, **kwargs)\u001b[0m\n\u001b[1;32m   1237\u001b[0m                                         \u001b[0msteps_per_epoch\u001b[0m\u001b[0;34m=\u001b[0m\u001b[0msteps_per_epoch\u001b[0m\u001b[0;34m,\u001b[0m\u001b[0;34m\u001b[0m\u001b[0;34m\u001b[0m\u001b[0m\n\u001b[1;32m   1238\u001b[0m                                         \u001b[0mvalidation_steps\u001b[0m\u001b[0;34m=\u001b[0m\u001b[0mvalidation_steps\u001b[0m\u001b[0;34m,\u001b[0m\u001b[0;34m\u001b[0m\u001b[0;34m\u001b[0m\u001b[0m\n\u001b[0;32m-> 1239\u001b[0;31m                                         validation_freq=validation_freq)\n\u001b[0m\u001b[1;32m   1240\u001b[0m \u001b[0;34m\u001b[0m\u001b[0m\n\u001b[1;32m   1241\u001b[0m     def evaluate(self,\n",
      "\u001b[0;32m/vol/customopt/lamachine.stable/lib/python3.6/site-packages/keras/engine/training_arrays.py\u001b[0m in \u001b[0;36mfit_loop\u001b[0;34m(model, fit_function, fit_inputs, out_labels, batch_size, epochs, verbose, callbacks, val_function, val_inputs, shuffle, initial_epoch, steps_per_epoch, validation_steps, validation_freq)\u001b[0m\n\u001b[1;32m    194\u001b[0m                     \u001b[0mins_batch\u001b[0m\u001b[0;34m[\u001b[0m\u001b[0mi\u001b[0m\u001b[0;34m]\u001b[0m \u001b[0;34m=\u001b[0m \u001b[0mins_batch\u001b[0m\u001b[0;34m[\u001b[0m\u001b[0mi\u001b[0m\u001b[0;34m]\u001b[0m\u001b[0;34m.\u001b[0m\u001b[0mtoarray\u001b[0m\u001b[0;34m(\u001b[0m\u001b[0;34m)\u001b[0m\u001b[0;34m\u001b[0m\u001b[0;34m\u001b[0m\u001b[0m\n\u001b[1;32m    195\u001b[0m \u001b[0;34m\u001b[0m\u001b[0m\n\u001b[0;32m--> 196\u001b[0;31m                 \u001b[0mouts\u001b[0m \u001b[0;34m=\u001b[0m \u001b[0mfit_function\u001b[0m\u001b[0;34m(\u001b[0m\u001b[0mins_batch\u001b[0m\u001b[0;34m)\u001b[0m\u001b[0;34m\u001b[0m\u001b[0;34m\u001b[0m\u001b[0m\n\u001b[0m\u001b[1;32m    197\u001b[0m                 \u001b[0mouts\u001b[0m \u001b[0;34m=\u001b[0m \u001b[0mto_list\u001b[0m\u001b[0;34m(\u001b[0m\u001b[0mouts\u001b[0m\u001b[0;34m)\u001b[0m\u001b[0;34m\u001b[0m\u001b[0;34m\u001b[0m\u001b[0m\n\u001b[1;32m    198\u001b[0m                 \u001b[0;32mfor\u001b[0m \u001b[0ml\u001b[0m\u001b[0;34m,\u001b[0m \u001b[0mo\u001b[0m \u001b[0;32min\u001b[0m \u001b[0mzip\u001b[0m\u001b[0;34m(\u001b[0m\u001b[0mout_labels\u001b[0m\u001b[0;34m,\u001b[0m \u001b[0mouts\u001b[0m\u001b[0;34m)\u001b[0m\u001b[0;34m:\u001b[0m\u001b[0;34m\u001b[0m\u001b[0;34m\u001b[0m\u001b[0m\n",
      "\u001b[0;32m/vol/customopt/lamachine.stable/lib/python3.6/site-packages/tensorflow_core/python/keras/backend.py\u001b[0m in \u001b[0;36m__call__\u001b[0;34m(self, inputs)\u001b[0m\n\u001b[1;32m   3725\u001b[0m         \u001b[0mvalue\u001b[0m \u001b[0;34m=\u001b[0m \u001b[0mmath_ops\u001b[0m\u001b[0;34m.\u001b[0m\u001b[0mcast\u001b[0m\u001b[0;34m(\u001b[0m\u001b[0mvalue\u001b[0m\u001b[0;34m,\u001b[0m \u001b[0mtensor\u001b[0m\u001b[0;34m.\u001b[0m\u001b[0mdtype\u001b[0m\u001b[0;34m)\u001b[0m\u001b[0;34m\u001b[0m\u001b[0;34m\u001b[0m\u001b[0m\n\u001b[1;32m   3726\u001b[0m       \u001b[0mconverted_inputs\u001b[0m\u001b[0;34m.\u001b[0m\u001b[0mappend\u001b[0m\u001b[0;34m(\u001b[0m\u001b[0mvalue\u001b[0m\u001b[0;34m)\u001b[0m\u001b[0;34m\u001b[0m\u001b[0;34m\u001b[0m\u001b[0m\n\u001b[0;32m-> 3727\u001b[0;31m     \u001b[0moutputs\u001b[0m \u001b[0;34m=\u001b[0m \u001b[0mself\u001b[0m\u001b[0;34m.\u001b[0m\u001b[0m_graph_fn\u001b[0m\u001b[0;34m(\u001b[0m\u001b[0;34m*\u001b[0m\u001b[0mconverted_inputs\u001b[0m\u001b[0;34m)\u001b[0m\u001b[0;34m\u001b[0m\u001b[0;34m\u001b[0m\u001b[0m\n\u001b[0m\u001b[1;32m   3728\u001b[0m \u001b[0;34m\u001b[0m\u001b[0m\n\u001b[1;32m   3729\u001b[0m     \u001b[0;31m# EagerTensor.numpy() will often make a copy to ensure memory safety.\u001b[0m\u001b[0;34m\u001b[0m\u001b[0;34m\u001b[0m\u001b[0;34m\u001b[0m\u001b[0m\n",
      "\u001b[0;32m/vol/customopt/lamachine.stable/lib/python3.6/site-packages/tensorflow_core/python/eager/function.py\u001b[0m in \u001b[0;36m__call__\u001b[0;34m(self, *args, **kwargs)\u001b[0m\n\u001b[1;32m   1549\u001b[0m       \u001b[0mTypeError\u001b[0m\u001b[0;34m:\u001b[0m \u001b[0mFor\u001b[0m \u001b[0minvalid\u001b[0m \u001b[0mpositional\u001b[0m\u001b[0;34m/\u001b[0m\u001b[0mkeyword\u001b[0m \u001b[0margument\u001b[0m \u001b[0mcombinations\u001b[0m\u001b[0;34m.\u001b[0m\u001b[0;34m\u001b[0m\u001b[0;34m\u001b[0m\u001b[0m\n\u001b[1;32m   1550\u001b[0m     \"\"\"\n\u001b[0;32m-> 1551\u001b[0;31m     \u001b[0;32mreturn\u001b[0m \u001b[0mself\u001b[0m\u001b[0;34m.\u001b[0m\u001b[0m_call_impl\u001b[0m\u001b[0;34m(\u001b[0m\u001b[0margs\u001b[0m\u001b[0;34m,\u001b[0m \u001b[0mkwargs\u001b[0m\u001b[0;34m)\u001b[0m\u001b[0;34m\u001b[0m\u001b[0;34m\u001b[0m\u001b[0m\n\u001b[0m\u001b[1;32m   1552\u001b[0m \u001b[0;34m\u001b[0m\u001b[0m\n\u001b[1;32m   1553\u001b[0m   \u001b[0;32mdef\u001b[0m \u001b[0m_call_impl\u001b[0m\u001b[0;34m(\u001b[0m\u001b[0mself\u001b[0m\u001b[0;34m,\u001b[0m \u001b[0margs\u001b[0m\u001b[0;34m,\u001b[0m \u001b[0mkwargs\u001b[0m\u001b[0;34m,\u001b[0m \u001b[0mcancellation_manager\u001b[0m\u001b[0;34m=\u001b[0m\u001b[0;32mNone\u001b[0m\u001b[0;34m)\u001b[0m\u001b[0;34m:\u001b[0m\u001b[0;34m\u001b[0m\u001b[0;34m\u001b[0m\u001b[0m\n",
      "\u001b[0;32m/vol/customopt/lamachine.stable/lib/python3.6/site-packages/tensorflow_core/python/eager/function.py\u001b[0m in \u001b[0;36m_call_impl\u001b[0;34m(self, args, kwargs, cancellation_manager)\u001b[0m\n\u001b[1;32m   1589\u001b[0m       raise TypeError(\"Keyword arguments {} unknown. Expected {}.\".format(\n\u001b[1;32m   1590\u001b[0m           list(kwargs.keys()), list(self._arg_keywords)))\n\u001b[0;32m-> 1591\u001b[0;31m     \u001b[0;32mreturn\u001b[0m \u001b[0mself\u001b[0m\u001b[0;34m.\u001b[0m\u001b[0m_call_flat\u001b[0m\u001b[0;34m(\u001b[0m\u001b[0margs\u001b[0m\u001b[0;34m,\u001b[0m \u001b[0mself\u001b[0m\u001b[0;34m.\u001b[0m\u001b[0mcaptured_inputs\u001b[0m\u001b[0;34m,\u001b[0m \u001b[0mcancellation_manager\u001b[0m\u001b[0;34m)\u001b[0m\u001b[0;34m\u001b[0m\u001b[0;34m\u001b[0m\u001b[0m\n\u001b[0m\u001b[1;32m   1592\u001b[0m \u001b[0;34m\u001b[0m\u001b[0m\n\u001b[1;32m   1593\u001b[0m   \u001b[0;32mdef\u001b[0m \u001b[0m_filtered_call\u001b[0m\u001b[0;34m(\u001b[0m\u001b[0mself\u001b[0m\u001b[0;34m,\u001b[0m \u001b[0margs\u001b[0m\u001b[0;34m,\u001b[0m \u001b[0mkwargs\u001b[0m\u001b[0;34m)\u001b[0m\u001b[0;34m:\u001b[0m\u001b[0;34m\u001b[0m\u001b[0;34m\u001b[0m\u001b[0m\n",
      "\u001b[0;32m/vol/customopt/lamachine.stable/lib/python3.6/site-packages/tensorflow_core/python/eager/function.py\u001b[0m in \u001b[0;36m_call_flat\u001b[0;34m(self, args, captured_inputs, cancellation_manager)\u001b[0m\n\u001b[1;32m   1690\u001b[0m       \u001b[0;31m# No tape is watching; skip to running the function.\u001b[0m\u001b[0;34m\u001b[0m\u001b[0;34m\u001b[0m\u001b[0;34m\u001b[0m\u001b[0m\n\u001b[1;32m   1691\u001b[0m       return self._build_call_outputs(self._inference_function.call(\n\u001b[0;32m-> 1692\u001b[0;31m           ctx, args, cancellation_manager=cancellation_manager))\n\u001b[0m\u001b[1;32m   1693\u001b[0m     forward_backward = self._select_forward_and_backward_functions(\n\u001b[1;32m   1694\u001b[0m         \u001b[0margs\u001b[0m\u001b[0;34m,\u001b[0m\u001b[0;34m\u001b[0m\u001b[0;34m\u001b[0m\u001b[0m\n",
      "\u001b[0;32m/vol/customopt/lamachine.stable/lib/python3.6/site-packages/tensorflow_core/python/eager/function.py\u001b[0m in \u001b[0;36mcall\u001b[0;34m(self, ctx, args, cancellation_manager)\u001b[0m\n\u001b[1;32m    543\u001b[0m               \u001b[0minputs\u001b[0m\u001b[0;34m=\u001b[0m\u001b[0margs\u001b[0m\u001b[0;34m,\u001b[0m\u001b[0;34m\u001b[0m\u001b[0;34m\u001b[0m\u001b[0m\n\u001b[1;32m    544\u001b[0m               \u001b[0mattrs\u001b[0m\u001b[0;34m=\u001b[0m\u001b[0;34m(\u001b[0m\u001b[0;34m\"executor_type\"\u001b[0m\u001b[0;34m,\u001b[0m \u001b[0mexecutor_type\u001b[0m\u001b[0;34m,\u001b[0m \u001b[0;34m\"config_proto\"\u001b[0m\u001b[0;34m,\u001b[0m \u001b[0mconfig\u001b[0m\u001b[0;34m)\u001b[0m\u001b[0;34m,\u001b[0m\u001b[0;34m\u001b[0m\u001b[0;34m\u001b[0m\u001b[0m\n\u001b[0;32m--> 545\u001b[0;31m               ctx=ctx)\n\u001b[0m\u001b[1;32m    546\u001b[0m         \u001b[0;32melse\u001b[0m\u001b[0;34m:\u001b[0m\u001b[0;34m\u001b[0m\u001b[0;34m\u001b[0m\u001b[0m\n\u001b[1;32m    547\u001b[0m           outputs = execute.execute_with_cancellation(\n",
      "\u001b[0;32m/vol/customopt/lamachine.stable/lib/python3.6/site-packages/tensorflow_core/python/eager/execute.py\u001b[0m in \u001b[0;36mquick_execute\u001b[0;34m(op_name, num_outputs, inputs, attrs, ctx, name)\u001b[0m\n\u001b[1;32m     59\u001b[0m     tensors = pywrap_tensorflow.TFE_Py_Execute(ctx._handle, device_name,\n\u001b[1;32m     60\u001b[0m                                                \u001b[0mop_name\u001b[0m\u001b[0;34m,\u001b[0m \u001b[0minputs\u001b[0m\u001b[0;34m,\u001b[0m \u001b[0mattrs\u001b[0m\u001b[0;34m,\u001b[0m\u001b[0;34m\u001b[0m\u001b[0;34m\u001b[0m\u001b[0m\n\u001b[0;32m---> 61\u001b[0;31m                                                num_outputs)\n\u001b[0m\u001b[1;32m     62\u001b[0m   \u001b[0;32mexcept\u001b[0m \u001b[0mcore\u001b[0m\u001b[0;34m.\u001b[0m\u001b[0m_NotOkStatusException\u001b[0m \u001b[0;32mas\u001b[0m \u001b[0me\u001b[0m\u001b[0;34m:\u001b[0m\u001b[0;34m\u001b[0m\u001b[0;34m\u001b[0m\u001b[0m\n\u001b[1;32m     63\u001b[0m     \u001b[0;32mif\u001b[0m \u001b[0mname\u001b[0m \u001b[0;32mis\u001b[0m \u001b[0;32mnot\u001b[0m \u001b[0;32mNone\u001b[0m\u001b[0;34m:\u001b[0m\u001b[0;34m\u001b[0m\u001b[0;34m\u001b[0m\u001b[0m\n",
      "\u001b[0;31mKeyboardInterrupt\u001b[0m: "
     ]
    }
   ],
   "source": [
    "from tqdm import tqdm\n",
    "\n",
    "train_samples = 20\n",
    "current = 0\n",
    "\n",
    "with h5py.File(filename) as file:\n",
    "    \n",
    "    while current < (len(all_groups) -20 ):\n",
    "        \n",
    "        \n",
    "        size = 0\n",
    "        for i in range(train_samples):\n",
    "            iterations = file[all_groups[i + current]]['Labels'].shape[0]\n",
    "            size += iterations\n",
    "\n",
    "        x_train = np.empty([int(size), 5, window_size]) #, dtype=np.complex)\n",
    "        y_train = np.empty([int(size),88])\n",
    "\n",
    "\n",
    "        print(\"Starting loading train samples\")\n",
    "        position = 0\n",
    "        for i in tqdm(range(train_samples)):\n",
    "            iterations = file[all_groups[i + current]]['Labels'].shape[0]\n",
    "            iterations = int(iterations)\n",
    "            for j in range(iterations):\n",
    "              if position < x_train.shape[0]:\n",
    "\n",
    "                if j == 0:\n",
    "\n",
    "                  for k in range(5):\n",
    "                      if (j + k) < iterations:\n",
    "                          x_train[position][k] = file[all_groups[i+current]]['CQT'][j + k]\n",
    "                  if j < (iterations - 2):\n",
    "                      y_train[position] = file[all_groups[i+current]]['Labels'][j + 2]\n",
    "                  position = position + 1\n",
    "                else:\n",
    "                  for k in range(5):\n",
    "                      if (j + k) < iterations:\n",
    "                          if k < 3:\n",
    "                            x_train[position][k] = x_train[position - 1][k + 1]\n",
    "                          else:\n",
    "                            x_train[position][k] = file[all_groups[i+current]]['CQT'][j + k]\n",
    "                  if j < (iterations - 2):\n",
    "                      y_train[position] = file[all_groups[i+current]]['Labels'][j + 2]\n",
    "                  position = position + 1\n",
    "\n",
    "        x_train /= max_value\n",
    "        x_train = x_train.reshape(x_train.shape[0], data_rows, data_cols, 1)       \n",
    "\n",
    "        history = model.fit(x_train, y_train,\n",
    "              batch_size=512,\n",
    "              epochs=1,\n",
    "              verbose=1,\n",
    "              validation_split=0.2)\n",
    "        \n",
    "        current += 16"
   ]
  },
  {
   "cell_type": "code",
   "execution_count": 0,
   "metadata": {
    "colab": {
     "base_uri": "https://localhost:8080/",
     "height": 1054
    },
    "colab_type": "code",
    "id": "xE9jLEk8loiw",
    "outputId": "f371dd58-f270-4789-c500-6fc2cdd18499"
   },
   "outputs": [
    {
     "name": "stdout",
     "output_type": "stream",
     "text": [
      "_________________________________________________________________\n",
      "Layer (type)                 Output Shape              Param #   \n",
      "=================================================================\n",
      "conv2d_1 (Conv2D)            (None, 5, 384, 16)        416       \n",
      "_________________________________________________________________\n",
      "batch_normalization_1 (Batch (None, 5, 384, 16)        64        \n",
      "_________________________________________________________________\n",
      "activation_1 (Activation)    (None, 5, 384, 16)        0         \n",
      "_________________________________________________________________\n",
      "conv2d_2 (Conv2D)            (None, 3, 382, 16)        2320      \n",
      "_________________________________________________________________\n",
      "batch_normalization_2 (Batch (None, 3, 382, 16)        64        \n",
      "_________________________________________________________________\n",
      "activation_2 (Activation)    (None, 3, 382, 16)        0         \n",
      "_________________________________________________________________\n",
      "max_pooling2d_1 (MaxPooling2 (None, 3, 191, 16)        0         \n",
      "_________________________________________________________________\n",
      "dropout_1 (Dropout)          (None, 3, 191, 16)        0         \n",
      "_________________________________________________________________\n",
      "conv2d_3 (Conv2D)            (None, 1, 189, 16)        2320      \n",
      "_________________________________________________________________\n",
      "batch_normalization_3 (Batch (None, 1, 189, 16)        64        \n",
      "_________________________________________________________________\n",
      "activation_3 (Activation)    (None, 1, 189, 16)        0         \n",
      "_________________________________________________________________\n",
      "max_pooling2d_2 (MaxPooling2 (None, 1, 94, 16)         0         \n",
      "_________________________________________________________________\n",
      "dropout_2 (Dropout)          (None, 1, 94, 16)         0         \n",
      "_________________________________________________________________\n",
      "conv2d_4 (Conv2D)            (None, 1, 92, 32)         1568      \n",
      "_________________________________________________________________\n",
      "batch_normalization_4 (Batch (None, 1, 92, 32)         128       \n",
      "_________________________________________________________________\n",
      "activation_4 (Activation)    (None, 1, 92, 32)         0         \n",
      "_________________________________________________________________\n",
      "max_pooling2d_3 (MaxPooling2 (None, 1, 46, 32)         0         \n",
      "_________________________________________________________________\n",
      "dropout_3 (Dropout)          (None, 1, 46, 32)         0         \n",
      "_________________________________________________________________\n",
      "flatten_1 (Flatten)          (None, 1472)              0         \n",
      "_________________________________________________________________\n",
      "dense_1 (Dense)              (None, 64)                94272     \n",
      "_________________________________________________________________\n",
      "batch_normalization_5 (Batch (None, 64)                256       \n",
      "_________________________________________________________________\n",
      "activation_5 (Activation)    (None, 64)                0         \n",
      "_________________________________________________________________\n",
      "dropout_4 (Dropout)          (None, 64)                0         \n",
      "_________________________________________________________________\n",
      "dense_2 (Dense)              (None, 88)                5720      \n",
      "=================================================================\n",
      "Total params: 107,192\n",
      "Trainable params: 106,904\n",
      "Non-trainable params: 288\n",
      "_________________________________________________________________\n",
      "None\n",
      "Train on 258400 samples, validate on 103360 samples\n",
      "Epoch 1/20\n",
      " 12800/258400 [>.............................] - ETA: 1:30 - loss: 13.5544 - acc: 0.0144258400/258400 [==============================] - 57s 222us/step - loss: 12.5849 - acc: 0.0673 - val_loss: 11.8845 - val_acc: 0.0178\n",
      "Epoch 2/20\n",
      "129024/258400 [=============>................] - ETA: 23s - loss: 11.3347 - acc: 0.1143238592/258400 [==========================>...] - ETA: 3s - loss: 11.1034 - acc: 0.1148"
     ]
    }
   ],
   "source": [
    "model = Sequential()\n",
    "\n",
    "model.add(Conv2D(16, kernel_size=(5,5),\n",
    "                 activation='relu',\n",
    "                 input_shape=input_shape, padding='same'))\n",
    "model.add(BatchNormalization())\n",
    "model.add(Activation('relu'))\n",
    "model.add(Conv2D(16, (3, 3)))\n",
    "model.add(BatchNormalization())\n",
    "model.add(Activation('relu'))\n",
    "model.add(MaxPooling2D(pool_size=(1, 2)))\n",
    "model.add(Dropout(0.25))\n",
    "model.add(Conv2D(16, (3, 3)))\n",
    "model.add(BatchNormalization())\n",
    "model.add(Activation('relu'))\n",
    "model.add(MaxPooling2D(pool_size=(1, 2)))\n",
    "model.add(Dropout(0.25))\n",
    "model.add(Conv2D(32, (1, 3)))\n",
    "model.add(BatchNormalization())\n",
    "model.add(Activation('relu'))\n",
    "model.add(MaxPooling2D(pool_size=(1, 2)))\n",
    "model.add(Dropout(0.25))\n",
    "model.add(Flatten())\n",
    "model.add(Dense(64))\n",
    "model.add(BatchNormalization())\n",
    "model.add(Activation('relu'))\n",
    "model.add(Dropout(0.5))\n",
    "model.add(Dense(88, activation='sigmoid'))\n",
    "\n",
    "print(model.summary())\n",
    "\n",
    "model.compile(loss=keras.losses.categorical_crossentropy,\n",
    "              optimizer=keras.optimizers.RMSprop(lr=0.0001),\n",
    "              metrics=['accuracy'])\n",
    "\n",
    "history = model.fit(x_train, y_train,\n",
    "          batch_size=512,\n",
    "          epochs=20,\n",
    "          verbose=1,\n",
    "          validation_data=(x_test, y_test))\n",
    "score = model.evaluate(x_test, y_test, verbose=0)\n",
    "print('Test loss:', score[0])\n",
    "print('Test accuracy:', score[1])"
   ]
  },
  {
   "cell_type": "code",
   "execution_count": 0,
   "metadata": {
    "colab": {
     "base_uri": "https://localhost:8080/",
     "height": 210
    },
    "colab_type": "code",
    "id": "AmLlmgoF8vST",
    "outputId": "0270cc61-5772-4f9f-a159-d256b8ad1a7b"
   },
   "outputs": [
    {
     "name": "stdout",
     "output_type": "stream",
     "text": [
      "dict_keys(['val_loss', 'val_acc', 'loss', 'acc'])\n"
     ]
    },
    {
     "data": {
      "text/plain": [
       "<matplotlib.legend.Legend at 0x7ff5243b11d0>"
      ]
     },
     "execution_count": 26,
     "metadata": {
      "tags": []
     },
     "output_type": "execute_result"
    },
    {
     "data": {
      "image/png": "[encoded data removed]",
      "text/plain": [
       "<matplotlib.figure.Figure at 0x7ff524382a90>"
      ]
     },
     "metadata": {
      "tags": []
     },
     "output_type": "display_data"
    }
   ],
   "source": [
    "print(history.history.keys())  \n",
    "   \n",
    "plt.figure(1)  \n",
    "\n",
    "# summarize history for accuracy  \n",
    "\n",
    "plt.subplot(211)  \n",
    "plt.plot(history.history['acc'])  \n",
    "plt.plot(history.history['val_acc'])  \n",
    "plt.title('model accuracy')  \n",
    "plt.ylabel('accuracy')  \n",
    "plt.xlabel('epoch')  \n",
    "plt.legend(['train', 'test'], loc='upper left')  "
   ]
  },
  {
   "cell_type": "code",
   "execution_count": 0,
   "metadata": {
    "colab": {},
    "colab_type": "code",
    "id": "p8hMEewDPDuh"
   },
   "outputs": [],
   "source": [
    "with h5py.File(filename) as file:\n",
    "  print(file[all_groups[0]]['CQT'][0].shape)"
   ]
  },
  {
   "cell_type": "code",
   "execution_count": 0,
   "metadata": {
    "colab": {},
    "colab_type": "code",
    "id": "-lC94cMk2sFd"
   },
   "outputs": [],
   "source": [
    "x_test[51000]\n"
   ]
  }
 ],
 "metadata": {
  "accelerator": "GPU",
  "colab": {
   "name": "FINAL.ipynb",
   "provenance": []
  },
  "kernelspec": {
   "display_name": "Python 3",
   "language": "python",
   "name": "python3"
  },
  "language_info": {
   "codemirror_mode": {
    "name": "ipython",
    "version": 3
   },
   "file_extension": ".py",
   "mimetype": "text/x-python",
   "name": "python",
   "nbconvert_exporter": "python",
   "pygments_lexer": "ipython3",
   "version": "3.6.9"
  }
 },
 "nbformat": 4,
 "nbformat_minor": 1
}
